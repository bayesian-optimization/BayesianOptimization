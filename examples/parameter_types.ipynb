{
 "cells": [
  {
   "cell_type": "code",
   "execution_count": 1,
   "metadata": {},
   "outputs": [],
   "source": [
    "import numpy as np\n",
    "import matplotlib.pyplot as plt\n",
    "from bayes_opt import BayesianOptimization, BayesParameter\n"
   ]
  },
  {
   "cell_type": "code",
   "execution_count": 2,
   "metadata": {},
   "outputs": [],
   "source": [
    "def discretized_function(x, y):\n",
    "    y = np.round(y)\n",
    "    return (-1*np.cos(x) + -1*np.cos(y))/((x/3)**2 + (y/3)**2 + 1)"
   ]
  },
  {
   "cell_type": "code",
   "execution_count": 3,
   "metadata": {},
   "outputs": [],
   "source": [
    "# Bounded region of parameter space\n",
    "c_pbounds = {'x': (-5, 5), 'y': (-5, 5)}"
   ]
  },
  {
   "cell_type": "code",
   "execution_count": 4,
   "metadata": {},
   "outputs": [],
   "source": [
    "labels = [\"All-float Optimizer\", \"Typed Optimizer\"]"
   ]
  },
  {
   "cell_type": "code",
   "execution_count": 5,
   "metadata": {},
   "outputs": [],
   "source": [
    "continuous_optimizer = BayesianOptimization(\n",
    "    f=discretized_function,\n",
    "    pbounds=c_pbounds,\n",
    "    verbose=2,\n",
    "    random_state=42,\n",
    ")\n",
    "\n",
    "\n",
    "d_pbounds = {'x': (-5, 5), 'y': (-5, 5, int)}\n",
    "discrete_optimizer = BayesianOptimization(\n",
    "    f=discretized_function,\n",
    "    pbounds=d_pbounds,\n",
    "    verbose=2,\n",
    "    random_state=42,\n",
    ")"
   ]
  },
  {
   "cell_type": "code",
   "execution_count": 6,
   "metadata": {},
   "outputs": [
    {
     "name": "stdout",
     "output_type": "stream",
     "text": [
      "====================  All-float Optimizer  ====================\n",
      "\n",
      "|   iter    |  target   |     x     |     y     |\n",
      "-------------------------------------------------\n",
      "| \u001b[39m1        \u001b[39m | \u001b[39m-0.1504  \u001b[39m | \u001b[39m-1.254598\u001b[39m | \u001b[39m4.5071430\u001b[39m |\n",
      "| \u001b[35m2        \u001b[39m | \u001b[35m0.08233  \u001b[39m | \u001b[35m2.3199394\u001b[39m | \u001b[35m0.9865848\u001b[39m |\n",
      "| \u001b[35m3        \u001b[39m | \u001b[35m0.2095   \u001b[39m | \u001b[35m0.9907151\u001b[39m | \u001b[35m-2.811653\u001b[39m |\n",
      "| \u001b[35m4        \u001b[39m | \u001b[35m0.286    \u001b[39m | \u001b[35m4.0043956\u001b[39m | \u001b[35m-4.018452\u001b[39m |\n",
      "| \u001b[39m5        \u001b[39m | \u001b[39m-0.08174 \u001b[39m | \u001b[39m-4.963953\u001b[39m | \u001b[39m-4.888396\u001b[39m |\n",
      "| \u001b[39m6        \u001b[39m | \u001b[39m0.03501  \u001b[39m | \u001b[39m4.9846486\u001b[39m | \u001b[39m-1.821879\u001b[39m |\n",
      "| \u001b[39m7        \u001b[39m | \u001b[39m0.1011   \u001b[39m | \u001b[39m2.3883784\u001b[39m | \u001b[39m-4.558775\u001b[39m |\n",
      "| \u001b[39m8        \u001b[39m | \u001b[39m-0.009009\u001b[39m | \u001b[39m4.4807948\u001b[39m | \u001b[39m-4.842764\u001b[39m |\n",
      "| \u001b[39m9        \u001b[39m | \u001b[39m0.1525   \u001b[39m | \u001b[39m4.5858949\u001b[39m | \u001b[39m-3.783561\u001b[39m |\n",
      "| \u001b[39m10       \u001b[39m | \u001b[39m0.2783   \u001b[39m | \u001b[39m4.0389974\u001b[39m | \u001b[39m-4.031531\u001b[39m |\n",
      "=================================================\n",
      "Max: 0.2859884589036788\n",
      "\n",
      "\n",
      "====================  Typed Optimizer  ====================\n",
      "\n",
      "|   iter    |  target   |     x     |     y     |\n",
      "-------------------------------------------------\n",
      "| \u001b[39m1        \u001b[39m | \u001b[39m-0.1504  \u001b[39m | \u001b[39m-1.254598\u001b[39m | \u001b[39m5        \u001b[39m |\n",
      "| \u001b[35m2        \u001b[39m | \u001b[35m0.2024   \u001b[39m | \u001b[35m2.79691  \u001b[39m | \u001b[35m-1       \u001b[39m |\n",
      "| \u001b[35m3        \u001b[39m | \u001b[35m0.6476   \u001b[39m | \u001b[35m-2.349882\u001b[39m | \u001b[35m-3       \u001b[39m |\n",
      "| \u001b[39m4        \u001b[39m | \u001b[39m0.126    \u001b[39m | \u001b[39m-2.594630\u001b[39m | \u001b[39m-5       \u001b[39m |\n",
      "| \u001b[39m5        \u001b[39m | \u001b[39m-0.3138  \u001b[39m | \u001b[39m-0.431955\u001b[39m | \u001b[39m-5       \u001b[39m |\n",
      "| \u001b[35m6        \u001b[39m | \u001b[35m0.6741   \u001b[39m | \u001b[35m-2.731757\u001b[39m | \u001b[35m-3       \u001b[39m |\n",
      "| \u001b[39m7        \u001b[39m | \u001b[39m0.1951   \u001b[39m | \u001b[39m-2.737932\u001b[39m | \u001b[39m-1       \u001b[39m |\n",
      "| \u001b[39m8        \u001b[39m | \u001b[39m0.2396   \u001b[39m | \u001b[39m-4.647873\u001b[39m | \u001b[39m-3       \u001b[39m |\n",
      "| \u001b[39m9        \u001b[39m | \u001b[39m0.1508   \u001b[39m | \u001b[39m4.9876130\u001b[39m | \u001b[39m3        \u001b[39m |\n",
      "| \u001b[39m10       \u001b[39m | \u001b[39m-0.1084  \u001b[39m | \u001b[39m-0.947769\u001b[39m | \u001b[39m-2       \u001b[39m |\n",
      "=================================================\n",
      "Max: 0.6741133751365254\n",
      "\n",
      "\n"
     ]
    }
   ],
   "source": [
    "for lbl, optimizer in zip(labels, [continuous_optimizer, discrete_optimizer]):\n",
    "    print(f\"====================  {lbl}  ====================\\n\")\n",
    "    optimizer.maximize(\n",
    "        init_points=2,\n",
    "        n_iter=8\n",
    "    )\n",
    "    print(f\"Max: {optimizer.max['target']}\\n\\n\")"
   ]
  },
  {
   "cell_type": "code",
   "execution_count": null,
   "metadata": {},
   "outputs": [],
   "source": []
  },
  {
   "cell_type": "code",
   "execution_count": 7,
   "metadata": {},
   "outputs": [
    {
     "data": {
      "image/png": "[encoded data removed]",
      "text/plain": [
       "<Figure size 640x480 with 3 Axes>"
      ]
     },
     "metadata": {},
     "output_type": "display_data"
    }
   ],
   "source": [
    "x = np.linspace(c_pbounds['x'][0], c_pbounds['x'][1], 1000)\n",
    "y = np.linspace(c_pbounds['y'][0], c_pbounds['y'][1], 1000)\n",
    "\n",
    "X, Y = np.meshgrid(x, y)\n",
    "\n",
    "Z = discretized_function(X, Y)\n",
    "\n",
    "params = [{'x': x_i, 'y': y_j} for y_j in y for x_i in x]\n",
    "array_params = [continuous_optimizer._space.params_to_array(p) for p in params]\n",
    "c_pred = continuous_optimizer._gp.predict(array_params).reshape(X.shape)\n",
    "d_pred = discrete_optimizer._gp.predict(array_params).reshape(X.shape)\n",
    "\n",
    "vmin = np.min([np.min(Z), np.min(c_pred), np.min(d_pred)])\n",
    "vmax = np.max([np.max(Z), np.max(c_pred), np.max(d_pred)])\n",
    "\n",
    "fig, axs = plt.subplots(1, 3)\n",
    "\n",
    "axs[0].set_title('Actual function')\n",
    "axs[0].contourf(X, Y, Z, cmap=plt.cm.coolwarm, vmin=vmin, vmax=vmax)\n",
    "\n",
    "\n",
    "axs[1].set_title(labels[0])\n",
    "axs[1].contourf(X, Y, c_pred, cmap=plt.cm.coolwarm, vmin=vmin, vmax=vmax)\n",
    "axs[1].scatter(continuous_optimizer._space.params[:,0], continuous_optimizer._space.params[:,1], c='k')\n",
    "\n",
    "axs[2].set_title(labels[1])\n",
    "axs[2].contourf(X, Y, d_pred, cmap=plt.cm.coolwarm, vmin=vmin, vmax=vmax)\n",
    "axs[2].scatter(discrete_optimizer._space.params[:,0], discrete_optimizer._space.params[:,1], c='k')\n",
    "\n",
    "\n",
    "def make_plot_fancy(ax: plt.Axes):\n",
    "    ax.set_aspect(\"equal\")\n",
    "    ax.set_xlabel('x (float)')\n",
    "    ax.set_xticks([-5.0, -2.5, 0., 2.5, 5.0])\n",
    "    ax.set_ylabel('y (int)')\n",
    "    ax.set_yticks([-5, -3, 0, 3, 5])\n",
    "\n",
    "for ax in axs:\n",
    "    make_plot_fancy(ax)\n",
    "\n",
    "plt.tight_layout()\n",
    "plt.show()"
   ]
  },
  {
   "cell_type": "markdown",
   "metadata": {},
   "source": [
    "## 3. Categorical variables\n"
   ]
  },
  {
   "cell_type": "code",
   "execution_count": 8,
   "metadata": {},
   "outputs": [],
   "source": [
    "def f1(x1, x2):\n",
    "    return -1*(x1 - np.sqrt(x1**2 + x2**2) * np.cos(np.sqrt(x1**2 + x2**2))**2 + 0.5 * np.sqrt(x1**2 + x2**2))\n",
    "\n",
    "def f2(x1, x2):\n",
    "    return -1*(x2 - np.sqrt(x1**2 + x2**2) * np.sin(np.sqrt(x1**2 + x2**2))**2 + 0.5 * np.sqrt(x1**2 + x2**2))\n",
    "\n",
    "def SPIRAL(x1, x2, k):\n",
    "    \"\"\"cf Ladislav-Luksan\n",
    "    \"\"\"\n",
    "    if k=='1':\n",
    "        return f1(x1, x2)\n",
    "    elif k=='2':\n",
    "        return f2(x1, x2)\n"
   ]
  },
  {
   "cell_type": "code",
   "execution_count": 9,
   "metadata": {},
   "outputs": [
    {
     "name": "stdout",
     "output_type": "stream",
     "text": [
      "|   iter    |  target   |     k     |    x1     |    x2     |\n",
      "-------------------------------------------------------------\n",
      "| \u001b[39m1        \u001b[39m | \u001b[39m-10.87   \u001b[39m | \u001b[39m    2    \u001b[39m | \u001b[39m9.9436962\u001b[39m | \u001b[39m8.6511471\u001b[39m |\n",
      "| \u001b[35m2        \u001b[39m | \u001b[35m10.65    \u001b[39m | \u001b[35m    2    \u001b[39m | \u001b[35m-3.953348\u001b[39m | \u001b[35m-7.064882\u001b[39m |\n",
      "| \u001b[39m3        \u001b[39m | \u001b[39m1.911    \u001b[39m | \u001b[39m    1    \u001b[39m | \u001b[39m-3.430812\u001b[39m | \u001b[39m-7.728198\u001b[39m |\n",
      "| \u001b[39m4        \u001b[39m | \u001b[39m9.726    \u001b[39m | \u001b[39m    2    \u001b[39m | \u001b[39m-4.862044\u001b[39m | \u001b[39m-5.999132\u001b[39m |\n",
      "| \u001b[39m5        \u001b[39m | \u001b[39m0.8457   \u001b[39m | \u001b[39m    1    \u001b[39m | \u001b[39m-1.919685\u001b[39m | \u001b[39m-3.730800\u001b[39m |\n",
      "| \u001b[39m6        \u001b[39m | \u001b[39m3.984    \u001b[39m | \u001b[39m    1    \u001b[39m | \u001b[39m-7.008155\u001b[39m | \u001b[39m-7.841077\u001b[39m |\n",
      "| \u001b[39m7        \u001b[39m | \u001b[39m4.096    \u001b[39m | \u001b[39m    1    \u001b[39m | \u001b[39m-7.357018\u001b[39m | \u001b[39m-3.570538\u001b[39m |\n",
      "| \u001b[35m8        \u001b[39m | \u001b[35m12.62    \u001b[39m | \u001b[35m    1    \u001b[39m | \u001b[35m-9.879071\u001b[39m | \u001b[35m0.8692765\u001b[39m |\n",
      "| \u001b[39m9        \u001b[39m | \u001b[39m10.67    \u001b[39m | \u001b[39m    1    \u001b[39m | \u001b[39m-9.766583\u001b[39m | \u001b[39m2.6526599\u001b[39m |\n",
      "| \u001b[39m10       \u001b[39m | \u001b[39m4.147    \u001b[39m | \u001b[39m    1    \u001b[39m | \u001b[39m-7.515377\u001b[39m | \u001b[39m1.2085635\u001b[39m |\n",
      "| \u001b[39m11       \u001b[39m | \u001b[39m-1.594   \u001b[39m | \u001b[39m    2    \u001b[39m | \u001b[39m-9.888163\u001b[39m | \u001b[39m-0.986066\u001b[39m |\n",
      "| \u001b[39m12       \u001b[39m | \u001b[39m12.6     \u001b[39m | \u001b[39m    1    \u001b[39m | \u001b[39m-9.789574\u001b[39m | \u001b[39m1.5273833\u001b[39m |\n",
      "| \u001b[39m13       \u001b[39m | \u001b[39m0.3688   \u001b[39m | \u001b[39m    2    \u001b[39m | \u001b[39m-9.862455\u001b[39m | \u001b[39m5.0749913\u001b[39m |\n",
      "| \u001b[39m14       \u001b[39m | \u001b[39m-2.888   \u001b[39m | \u001b[39m    2    \u001b[39m | \u001b[39m-9.949469\u001b[39m | \u001b[39m1.6633608\u001b[39m |\n",
      "| \u001b[39m15       \u001b[39m | \u001b[39m0.3513   \u001b[39m | \u001b[39m    1    \u001b[39m | \u001b[39m-0.825539\u001b[39m | \u001b[39m0.9079267\u001b[39m |\n",
      "| \u001b[39m16       \u001b[39m | \u001b[39m-1.711   \u001b[39m | \u001b[39m    1    \u001b[39m | \u001b[39m2.195066 \u001b[39m | \u001b[39m1.2996733\u001b[39m |\n",
      "| \u001b[39m17       \u001b[39m | \u001b[39m0.3682   \u001b[39m | \u001b[39m    2    \u001b[39m | \u001b[39m1.5699874\u001b[39m | \u001b[39m0.4413354\u001b[39m |\n",
      "| \u001b[39m18       \u001b[39m | \u001b[39m8.667    \u001b[39m | \u001b[39m    2    \u001b[39m | \u001b[39m-4.855364\u001b[39m | \u001b[39m-5.736939\u001b[39m |\n",
      "| \u001b[39m19       \u001b[39m | \u001b[39m-0.03433 \u001b[39m | \u001b[39m    1    \u001b[39m | \u001b[39m1.0870723\u001b[39m | \u001b[39m3.4490001\u001b[39m |\n",
      "| \u001b[39m20       \u001b[39m | \u001b[39m-8.418   \u001b[39m | \u001b[39m    1    \u001b[39m | \u001b[39m7.8951162\u001b[39m | \u001b[39m-3.354534\u001b[39m |\n",
      "=============================================================\n"
     ]
    }
   ],
   "source": [
    "pbounds = {'x1': (-10, 10), 'x2': (-10, 10), 'k': ('1', '2')}\n",
    "\n",
    "categorical_optimizer = BayesianOptimization(\n",
    "    f=SPIRAL,\n",
    "    pbounds=pbounds,\n",
    "    verbose=2,\n",
    "    random_state=1,\n",
    ")\n",
    "\n",
    "categorical_optimizer.maximize(\n",
    "        init_points=2,\n",
    "        n_iter=18,\n",
    "    )"
   ]
  },
  {
   "cell_type": "code",
   "execution_count": 10,
   "metadata": {},
   "outputs": [],
   "source": [
    "res = categorical_optimizer._space.res()\n",
    "k1 = np.array([[p['params']['x1'], p['params']['x2']] for p in res if p['params']['k']=='1'])\n",
    "k2 = np.array([[p['params']['x1'], p['params']['x2']] for p in res if p['params']['k']=='2'])"
   ]
  },
  {
   "cell_type": "code",
   "execution_count": 11,
   "metadata": {},
   "outputs": [
    {
     "data": {
      "image/png": "[encoded data removed]",
      "text/plain": [
       "<Figure size 640x480 with 2 Axes>"
      ]
     },
     "metadata": {},
     "output_type": "display_data"
    }
   ],
   "source": [
    "x1 = np.linspace(pbounds['x1'][0], pbounds['x1'][1], 1000)\n",
    "x2 = np.linspace(pbounds['x2'][0], pbounds['x2'][1], 1000)\n",
    "\n",
    "X1, X2 = np.meshgrid(x1, x2)\n",
    "Z1 = SPIRAL(X1, X2, '1')\n",
    "Z2 = SPIRAL(X1, X2, '2')\n",
    "\n",
    "fig, axs = plt.subplots(1, 2)\n",
    "\n",
    "vmin = np.min([np.min(Z1), np.min(Z2)])\n",
    "vmax = np.max([np.max(Z1), np.max(Z2)])\n",
    "\n",
    "axs[0].contourf(X1, X2, Z1, vmin=vmin, vmax=vmax)\n",
    "axs[0].set_aspect(\"equal\")\n",
    "axs[0].scatter(k1[:,0], k1[:,1], c='k')\n",
    "axs[1].contourf(X1, X2, Z2, vmin=vmin, vmax=vmax)\n",
    "axs[1].scatter(k2[:,0], k2[:,1], c='k')\n",
    "axs[1].set_aspect(\"equal\")\n"
   ]
  },
  {
   "cell_type": "markdown",
   "metadata": {},
   "source": [
    "## 4. Use in ML"
   ]
  },
  {
   "cell_type": "code",
   "execution_count": 12,
   "metadata": {},
   "outputs": [
    {
     "name": "stdout",
     "output_type": "stream",
     "text": [
      "|   iter    |  target   |     C     |  kernel   |\n",
      "-------------------------------------------------\n",
      "| \u001b[39m1        \u001b[39m | \u001b[39m0.8166   \u001b[39m | \u001b[39m3.8079471\u001b[39m | \u001b[39m   rbf   \u001b[39m |\n",
      "| \u001b[39m2        \u001b[39m | \u001b[39m0.5419   \u001b[39m | \u001b[39m1.9160044\u001b[39m | \u001b[39m   rbf   \u001b[39m |\n",
      "| \u001b[39m3        \u001b[39m | \u001b[39m0.5927   \u001b[39m | \u001b[39m3.4819990\u001b[39m | \u001b[39m  poly3  \u001b[39m |\n",
      "| \u001b[35m4        \u001b[39m | \u001b[35m0.8463   \u001b[39m | \u001b[35m9.6815942\u001b[39m | \u001b[35m  poly2  \u001b[39m |\n",
      "| \u001b[39m5        \u001b[39m | \u001b[39m0.7862   \u001b[39m | \u001b[39m7.1327138\u001b[39m | \u001b[39m  poly2  \u001b[39m |\n",
      "| \u001b[35m6        \u001b[39m | \u001b[35m0.8688   \u001b[39m | \u001b[35m4.6671691\u001b[39m | \u001b[35m   rbf   \u001b[39m |\n",
      "| \u001b[39m7        \u001b[39m | \u001b[39m0.6765   \u001b[39m | \u001b[39m2.5627368\u001b[39m | \u001b[39m   rbf   \u001b[39m |\n",
      "| \u001b[39m8        \u001b[39m | \u001b[39m0.7324   \u001b[39m | \u001b[39m6.7594238\u001b[39m | \u001b[39m  poly3  \u001b[39m |\n",
      "| \u001b[39m9        \u001b[39m | \u001b[39m0.8585   \u001b[39m | \u001b[39m4.4567931\u001b[39m | \u001b[39m   rbf   \u001b[39m |\n",
      "| \u001b[39m10       \u001b[39m | \u001b[39m0.6446   \u001b[39m | \u001b[39m4.5126050\u001b[39m | \u001b[39m  poly3  \u001b[39m |\n",
      "| \u001b[39m11       \u001b[39m | \u001b[39m0.8446   \u001b[39m | \u001b[39m9.1220066\u001b[39m | \u001b[39m  poly2  \u001b[39m |\n",
      "| \u001b[39m12       \u001b[39m | \u001b[39m0.4482   \u001b[39m | \u001b[39m1.9270948\u001b[39m | \u001b[39m  poly3  \u001b[39m |\n",
      "=================================================\n"
     ]
    }
   ],
   "source": [
    "from sklearn.datasets import load_diabetes\n",
    "from sklearn.svm import SVC\n",
    "from sklearn.metrics import f1_score\n",
    "from bayes_opt import BayesianOptimization\n",
    "\n",
    "data = load_diabetes()\n",
    "\n",
    "kernels = ['rbf', 'poly']\n",
    "\n",
    "def f_target(kernel, C):\n",
    "    if kernel == 'poly2':\n",
    "        kernel = 'poly'\n",
    "        degree = 2\n",
    "    elif kernel == 'poly3':\n",
    "        kernel = 'poly'\n",
    "        degree = 3\n",
    "    elif kernel == 'rbf':\n",
    "        degree = 3 # not used, equal to default\n",
    "\n",
    "    model = SVC(C=C, kernel=kernel, degree=degree)\n",
    "    model.fit(data['data'], data['target'])\n",
    "\n",
    "    weighted_f1 = f1_score(model.predict(data['data']), data['target'], average='weighted')\n",
    "    return weighted_f1\n",
    "\n",
    "\n",
    "params_svm ={\n",
    "    'kernel': ['rbf', 'poly2', 'poly3'],\n",
    "    'C':(1e-1, 1e+1),\n",
    "}\n",
    "\n",
    "optimizer = BayesianOptimization(f_target, params_svm, random_state=42, verbose=2)\n",
    "\n",
    "optimizer.maximize(init_points=2, n_iter=10)"
   ]
  },
  {
   "cell_type": "code",
   "execution_count": null,
   "metadata": {},
   "outputs": [],
   "source": []
  }
 ],
 "metadata": {
  "kernelspec": {
   "display_name": "Python 3.9.6 ('bopt')",
   "language": "python",
   "name": "python3"
  },
  "language_info": {
   "codemirror_mode": {
    "name": "ipython",
    "version": 3
   },
   "file_extension": ".py",
   "mimetype": "text/x-python",
   "name": "python",
   "nbconvert_exporter": "python",
   "pygments_lexer": "ipython3",
   "version": "3.10.13"
  },
  "vscode": {
   "interpreter": {
    "hash": "49851069de08cc5bbf068d7713ecb1523f4cab708013d75e8e72826d85a7e48d"
   }
  }
 },
 "nbformat": 4,
 "nbformat_minor": 2
}
