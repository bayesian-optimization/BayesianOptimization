{
 "cells": [
  {
   "cell_type": "code",
   "execution_count": 1,
   "metadata": {},
   "outputs": [],
   "source": [
    "import numpy as np\n",
    "import matplotlib.pyplot as plt\n",
    "from bayes_opt import BayesianOptimization\n"
   ]
  },
  {
   "cell_type": "code",
   "execution_count": 2,
   "metadata": {},
   "outputs": [],
   "source": [
    "def discretized_function(x, y):\n",
    "    y = np.round(y)\n",
    "    return (-1*np.cos(x) + -1*np.cos(y))/((x/3)**2 + (y/3)**2 + 1)"
   ]
  },
  {
   "cell_type": "code",
   "execution_count": 3,
   "metadata": {},
   "outputs": [],
   "source": [
    "# Bounded region of parameter space\n",
    "c_pbounds = {'x': (-5, 5), 'y': (-5, 5)}"
   ]
  },
  {
   "cell_type": "code",
   "execution_count": 4,
   "metadata": {},
   "outputs": [],
   "source": [
    "labels = [\"All-float Optimizer\", \"Typed Optimizer\"]"
   ]
  },
  {
   "cell_type": "code",
   "execution_count": 5,
   "metadata": {},
   "outputs": [],
   "source": [
    "continuous_optimizer = BayesianOptimization(\n",
    "    f=discretized_function,\n",
    "    pbounds=c_pbounds,\n",
    "    verbose=2,\n",
    "    random_state=1,\n",
    ")\n",
    "\n",
    "\n",
    "d_pbounds = {'x': (-5, 5), 'y': (-5, 5, int)}\n",
    "discrete_optimizer = BayesianOptimization(\n",
    "    f=discretized_function,\n",
    "    pbounds=d_pbounds,\n",
    "    verbose=2,\n",
    "    random_state=1,\n",
    ")"
   ]
  },
  {
   "cell_type": "code",
   "execution_count": 6,
   "metadata": {},
   "outputs": [
    {
     "name": "stdout",
     "output_type": "stream",
     "text": [
      "====================  All-float Optimizer  ====================\n",
      "\n",
      "|   iter    |  target   |     x     |     y     |\n",
      "-------------------------------------------------\n",
      "| \u001b[39m1        \u001b[39m | \u001b[39m-0.1702  \u001b[39m | \u001b[39m-0.829779\u001b[39m | \u001b[39m2.2032449\u001b[39m |\n",
      "| \u001b[35m2        \u001b[39m | \u001b[35m0.03165  \u001b[39m | \u001b[35m-4.998856\u001b[39m | \u001b[35m-1.976674\u001b[39m |\n",
      "| \u001b[35m3        \u001b[39m | \u001b[35m0.04415  \u001b[39m | \u001b[35m-4.946870\u001b[39m | \u001b[35m-2.137915\u001b[39m |\n",
      "| \u001b[39m4        \u001b[39m | \u001b[39m-0.002676\u001b[39m | \u001b[39m-4.441393\u001b[39m | \u001b[39m-4.515654\u001b[39m |\n",
      "| \u001b[35m5        \u001b[39m | \u001b[35m0.6544   \u001b[39m | \u001b[35m-3.051440\u001b[39m | \u001b[35m-2.571351\u001b[39m |\n",
      "| \u001b[39m6        \u001b[39m | \u001b[39m0.4494   \u001b[39m | \u001b[39m-2.023482\u001b[39m | \u001b[39m-2.342706\u001b[39m |\n",
      "| \u001b[39m7        \u001b[39m | \u001b[39m0.4207   \u001b[39m | \u001b[39m-2.516753\u001b[39m | \u001b[39m-3.549863\u001b[39m |\n",
      "| \u001b[39m8        \u001b[39m | \u001b[39m0.2129   \u001b[39m | \u001b[39m-3.015779\u001b[39m | \u001b[39m-1.270144\u001b[39m |\n",
      "| \u001b[39m9        \u001b[39m | \u001b[39m-0.1227  \u001b[39m | \u001b[39m-0.103683\u001b[39m | \u001b[39m-3.639513\u001b[39m |\n",
      "| \u001b[39m10       \u001b[39m | \u001b[39m-0.06719 \u001b[39m | \u001b[39m4.8593667\u001b[39m | \u001b[39m4.9971018\u001b[39m |\n",
      "=================================================\n",
      "Max: 0.6544320709931273\n",
      "\n",
      "\n",
      "====================  Typed Optimizer  ====================\n",
      "\n",
      "|   iter    |  target   |     x     |     y     |\n",
      "-------------------------------------------------\n",
      "| \u001b[39m1        \u001b[39m | \u001b[39m-0.1702  \u001b[39m | \u001b[39m-0.829779\u001b[39m | \u001b[39m2        \u001b[39m |\n",
      "| \u001b[35m2        \u001b[39m | \u001b[35m0.03165  \u001b[39m | \u001b[35m-4.998856\u001b[39m | \u001b[35m-2       \u001b[39m |\n",
      "| \u001b[35m3        \u001b[39m | \u001b[35m0.08123  \u001b[39m | \u001b[35m-4.803093\u001b[39m | \u001b[35m-2       \u001b[39m |\n",
      "| \u001b[35m4        \u001b[39m | \u001b[35m0.2941   \u001b[39m | \u001b[35m-4.115548\u001b[39m | \u001b[35m-2       \u001b[39m |\n",
      "| \u001b[35m5        \u001b[39m | \u001b[35m0.5668   \u001b[39m | \u001b[35m-3.073842\u001b[39m | \u001b[35m-2       \u001b[39m |\n",
      "| \u001b[39m6        \u001b[39m | \u001b[39m0.4001   \u001b[39m | \u001b[39m-1.478073\u001b[39m | \u001b[39m-3       \u001b[39m |\n",
      "| \u001b[39m7        \u001b[39m | \u001b[39m-0.007857\u001b[39m | \u001b[39m-2.126598\u001b[39m | \u001b[39m-1       \u001b[39m |\n",
      "| \u001b[35m8        \u001b[39m | \u001b[35m0.6648   \u001b[39m | \u001b[35m-2.947338\u001b[39m | \u001b[35m-3       \u001b[39m |\n",
      "| \u001b[39m9        \u001b[39m | \u001b[39m0.1439   \u001b[39m | \u001b[39m-2.847256\u001b[39m | \u001b[39m-5       \u001b[39m |\n",
      "| \u001b[39m10       \u001b[39m | \u001b[39m-0.08434 \u001b[39m | \u001b[39m4.9833729\u001b[39m | \u001b[39m-5       \u001b[39m |\n",
      "=================================================\n",
      "Max: 0.6647727296561663\n",
      "\n",
      "\n"
     ]
    }
   ],
   "source": [
    "for lbl, optimizer in zip(labels, [continuous_optimizer, discrete_optimizer]):\n",
    "    print(f\"====================  {lbl}  ====================\\n\")\n",
    "    optimizer.maximize(\n",
    "        init_points=2,\n",
    "        n_iter=8\n",
    "    )\n",
    "    print(f\"Max: {optimizer.max['target']}\\n\\n\")"
   ]
  },
  {
   "cell_type": "code",
   "execution_count": null,
   "metadata": {},
   "outputs": [],
   "source": []
  },
  {
   "cell_type": "code",
   "execution_count": 7,
   "metadata": {},
   "outputs": [
    {
     "data": {
      "image/png": "[encoded data removed]",
      "text/plain": [
       "<Figure size 640x480 with 3 Axes>"
      ]
     },
     "metadata": {},
     "output_type": "display_data"
    }
   ],
   "source": [
    "x = np.linspace(c_pbounds['x'][0], c_pbounds['x'][1], 1000)\n",
    "y = np.linspace(c_pbounds['y'][0], c_pbounds['y'][1], 1000)\n",
    "\n",
    "X, Y = np.meshgrid(x, y)\n",
    "\n",
    "Z = discretized_function(X, Y)\n",
    "\n",
    "params = [{'x': x_i, 'y': y_j} for y_j in y for x_i in x]\n",
    "array_params = [continuous_optimizer._space.params_to_array(p) for p in params]\n",
    "c_pred = continuous_optimizer._gp.predict(array_params).reshape(X.shape)\n",
    "d_pred = discrete_optimizer._gp.predict(array_params).reshape(X.shape)\n",
    "\n",
    "vmin = np.min([np.min(Z), np.min(c_pred), np.min(d_pred)])\n",
    "vmax = np.max([np.max(Z), np.max(c_pred), np.max(d_pred)])\n",
    "\n",
    "fig, axs = plt.subplots(1, 3)\n",
    "\n",
    "axs[0].set_title('Actual function')\n",
    "axs[0].contourf(X, Y, Z, cmap=plt.cm.coolwarm, vmin=vmin, vmax=vmax)\n",
    "\n",
    "\n",
    "axs[1].set_title(labels[0])\n",
    "axs[1].contourf(X, Y, c_pred, cmap=plt.cm.coolwarm, vmin=vmin, vmax=vmax)\n",
    "axs[1].scatter(continuous_optimizer._space.params[:,0], continuous_optimizer._space.params[:,1], c='k')\n",
    "\n",
    "axs[2].set_title(labels[1])\n",
    "axs[2].contourf(X, Y, d_pred, cmap=plt.cm.coolwarm, vmin=vmin, vmax=vmax)\n",
    "axs[2].scatter(discrete_optimizer._space.params[:,0], discrete_optimizer._space.params[:,1], c='k')\n",
    "\n",
    "\n",
    "def make_plot_fancy(ax: plt.Axes):\n",
    "    ax.set_aspect(\"equal\")\n",
    "    ax.set_xlabel('x (float)')\n",
    "    ax.set_xticks([-5.0, -2.5, 0., 2.5, 5.0])\n",
    "    ax.set_ylabel('y (int)')\n",
    "    ax.set_yticks([-5, -3, 0, 3, 5])\n",
    "\n",
    "for ax in axs:\n",
    "    make_plot_fancy(ax)\n",
    "\n",
    "plt.tight_layout()\n",
    "plt.show()"
   ]
  },
  {
   "cell_type": "markdown",
   "metadata": {},
   "source": [
    "## 3. Categorical variables\n"
   ]
  },
  {
   "cell_type": "code",
   "execution_count": 8,
   "metadata": {},
   "outputs": [],
   "source": [
    "def f1(x1, x2):\n",
    "    return -1*(x1 - np.sqrt(x1**2 + x2**2) * np.cos(np.sqrt(x1**2 + x2**2))**2 + 0.5 * np.sqrt(x1**2 + x2**2))\n",
    "\n",
    "def f2(x1, x2):\n",
    "    return -1*(x2 - np.sqrt(x1**2 + x2**2) * np.sin(np.sqrt(x1**2 + x2**2))**2 + 0.5 * np.sqrt(x1**2 + x2**2))\n",
    "\n",
    "def SPIRAL(x1, x2, k):\n",
    "    \"\"\"cf Ladislav-Luksan\n",
    "    \"\"\"\n",
    "    if k=='1':\n",
    "        return f1(x1, x2)\n",
    "    elif k=='2':\n",
    "        return f2(x1, x2)\n"
   ]
  },
  {
   "cell_type": "code",
   "execution_count": 9,
   "metadata": {},
   "outputs": [
    {
     "name": "stdout",
     "output_type": "stream",
     "text": [
      "|   iter    |  target   |     k     |    x1     |    x2     |\n",
      "-------------------------------------------------------------\n",
      "| \u001b[39m1        \u001b[39m | \u001b[39m8.698    \u001b[39m | \u001b[39m    2    \u001b[39m | \u001b[39m-9.997712\u001b[39m | \u001b[39m-3.953348\u001b[39m |\n",
      "| \u001b[39m2        \u001b[39m | \u001b[39m6.796    \u001b[39m | \u001b[39m    1    \u001b[39m | \u001b[39m-6.274795\u001b[39m | \u001b[39m-3.088785\u001b[39m |\n",
      "| \u001b[39m3        \u001b[39m | \u001b[39m7.978    \u001b[39m | \u001b[39m    2    \u001b[39m | \u001b[39m-9.970416\u001b[39m | \u001b[39m-3.781190\u001b[39m |\n",
      "| \u001b[39m4        \u001b[39m | \u001b[39m4.331    \u001b[39m | \u001b[39m    1    \u001b[39m | \u001b[39m-9.784631\u001b[39m | \u001b[39m-5.210773\u001b[39m |\n",
      "| \u001b[39m5        \u001b[39m | \u001b[39m-14.69   \u001b[39m | \u001b[39m    1    \u001b[39m | \u001b[39m9.1818929\u001b[39m | \u001b[39m6.0937003\u001b[39m |\n",
      "| \u001b[39m6        \u001b[39m | \u001b[39m0.5244   \u001b[39m | \u001b[39m    2    \u001b[39m | \u001b[39m-9.947053\u001b[39m | \u001b[39m4.9142403\u001b[39m |\n",
      "| \u001b[35m7        \u001b[39m | \u001b[35m17.04    \u001b[39m | \u001b[35m    2    \u001b[39m | \u001b[35m9.9626887\u001b[39m | \u001b[35m-9.994737\u001b[39m |\n",
      "| \u001b[39m8        \u001b[39m | \u001b[39m-10.26   \u001b[39m | \u001b[39m    1    \u001b[39m | \u001b[39m4.8389550\u001b[39m | \u001b[39m-9.994760\u001b[39m |\n",
      "| \u001b[39m9        \u001b[39m | \u001b[39m2.323    \u001b[39m | \u001b[39m    2    \u001b[39m | \u001b[39m9.9704528\u001b[39m | \u001b[39m-7.076212\u001b[39m |\n",
      "| \u001b[39m10       \u001b[39m | \u001b[39m13.23    \u001b[39m | \u001b[39m    1    \u001b[39m | \u001b[39m-9.169301\u001b[39m | \u001b[39m-0.486971\u001b[39m |\n",
      "| \u001b[39m11       \u001b[39m | \u001b[39m-3.706   \u001b[39m | \u001b[39m    2    \u001b[39m | \u001b[39m-5.889131\u001b[39m | \u001b[39m1.1635320\u001b[39m |\n",
      "| \u001b[39m12       \u001b[39m | \u001b[39m12.81    \u001b[39m | \u001b[39m    2    \u001b[39m | \u001b[39m9.1816596\u001b[39m | \u001b[39m-9.986873\u001b[39m |\n",
      "| \u001b[39m13       \u001b[39m | \u001b[39m2.761    \u001b[39m | \u001b[39m    1    \u001b[39m | \u001b[39m-1.480697\u001b[39m | \u001b[39m9.9724447\u001b[39m |\n",
      "| \u001b[39m14       \u001b[39m | \u001b[39m15.44    \u001b[39m | \u001b[39m    2    \u001b[39m | \u001b[39m-4.812190\u001b[39m | \u001b[39m-9.939661\u001b[39m |\n",
      "| \u001b[39m15       \u001b[39m | \u001b[39m9.753    \u001b[39m | \u001b[39m    2    \u001b[39m | \u001b[39m-3.349925\u001b[39m | \u001b[39m-7.682301\u001b[39m |\n",
      "| \u001b[39m16       \u001b[39m | \u001b[39m13.62    \u001b[39m | \u001b[39m    1    \u001b[39m | \u001b[39m-7.480940\u001b[39m | \u001b[39m-9.985028\u001b[39m |\n",
      "| \u001b[39m17       \u001b[39m | \u001b[39m-2.073   \u001b[39m | \u001b[39m    1    \u001b[39m | \u001b[39m2.2439153\u001b[39m | \u001b[39m-0.924723\u001b[39m |\n",
      "| \u001b[39m18       \u001b[39m | \u001b[39m7.228    \u001b[39m | \u001b[39m    2    \u001b[39m | \u001b[39m-6.166753\u001b[39m | \u001b[39m-8.036643\u001b[39m |\n",
      "| \u001b[39m19       \u001b[39m | \u001b[39m10.01    \u001b[39m | \u001b[39m    2    \u001b[39m | \u001b[39m-2.211731\u001b[39m | \u001b[39m-9.971190\u001b[39m |\n",
      "| \u001b[39m20       \u001b[39m | \u001b[39m16.82    \u001b[39m | \u001b[39m    2    \u001b[39m | \u001b[39m-9.944579\u001b[39m | \u001b[39m-9.916347\u001b[39m |\n",
      "=============================================================\n"
     ]
    }
   ],
   "source": [
    "pbounds = {'x1': (-10, 10), 'x2': (-10, 10), 'k': ('1', '2')}\n",
    "\n",
    "categorical_optimizer = BayesianOptimization(\n",
    "    f=SPIRAL,\n",
    "    pbounds=pbounds,\n",
    "    verbose=2,\n",
    "    random_state=1,\n",
    ")\n",
    "\n",
    "categorical_optimizer.maximize(\n",
    "        init_points=2,\n",
    "        n_iter=18,\n",
    "    )"
   ]
  },
  {
   "cell_type": "code",
   "execution_count": 10,
   "metadata": {},
   "outputs": [],
   "source": [
    "res = categorical_optimizer._space.res()\n",
    "k1 = np.array([[p['params']['x1'], p['params']['x2']] for p in res if p['params']['k']=='1'])\n",
    "k2 = np.array([[p['params']['x1'], p['params']['x2']] for p in res if p['params']['k']=='2'])"
   ]
  },
  {
   "cell_type": "code",
   "execution_count": 11,
   "metadata": {},
   "outputs": [
    {
     "data": {
      "image/png": "[encoded data removed]",
      "text/plain": [
       "<Figure size 640x480 with 2 Axes>"
      ]
     },
     "metadata": {},
     "output_type": "display_data"
    }
   ],
   "source": [
    "x1 = np.linspace(pbounds['x1'][0], pbounds['x1'][1], 1000)\n",
    "x2 = np.linspace(pbounds['x2'][0], pbounds['x2'][1], 1000)\n",
    "\n",
    "X1, X2 = np.meshgrid(x1, x2)\n",
    "Z1 = SPIRAL(X1, X2, '1')\n",
    "Z2 = SPIRAL(X1, X2, '2')\n",
    "\n",
    "fig, axs = plt.subplots(1, 2)\n",
    "\n",
    "vmin = np.min([np.min(Z1), np.min(Z2)])\n",
    "vmax = np.max([np.max(Z1), np.max(Z2)])\n",
    "\n",
    "axs[0].contourf(X1, X2, Z1, vmin=vmin, vmax=vmax)\n",
    "axs[0].set_aspect(\"equal\")\n",
    "axs[0].scatter(k1[:,0], k1[:,1], c='k')\n",
    "axs[1].contourf(X1, X2, Z2, vmin=vmin, vmax=vmax)\n",
    "axs[1].scatter(k2[:,0], k2[:,1], c='k')\n",
    "axs[1].set_aspect(\"equal\")\n"
   ]
  },
  {
   "cell_type": "markdown",
   "metadata": {},
   "source": [
    "## 4. Use in ML"
   ]
  },
  {
   "cell_type": "code",
   "execution_count": 12,
   "metadata": {},
   "outputs": [
    {
     "name": "stdout",
     "output_type": "stream",
     "text": [
      "|   iter    |  target   |     C     |  degree   |  kernel   |\n",
      "-------------------------------------------------------------\n",
      "| \u001b[39m1        \u001b[39m | \u001b[39m0.8166   \u001b[39m | \u001b[39m3.8079471\u001b[39m | \u001b[39m3        \u001b[39m | \u001b[39m   rbf   \u001b[39m |\n",
      "| \u001b[39m2        \u001b[39m | \u001b[39m0.1887   \u001b[39m | \u001b[39m1.6445845\u001b[39m | \u001b[39m1        \u001b[39m | \u001b[39m  poly   \u001b[39m |\n",
      "| \u001b[39m3        \u001b[39m | \u001b[39m0.6176   \u001b[39m | \u001b[39m3.8018183\u001b[39m | \u001b[39m3        \u001b[39m | \u001b[39m  poly   \u001b[39m |\n",
      "| \u001b[39m4        \u001b[39m | \u001b[39m0.6639   \u001b[39m | \u001b[39m4.9294903\u001b[39m | \u001b[39m3        \u001b[39m | \u001b[39m  poly   \u001b[39m |\n",
      "| \u001b[35m5        \u001b[39m | \u001b[35m0.9169   \u001b[39m | \u001b[35m5.7324339\u001b[39m | \u001b[35m1        \u001b[39m | \u001b[35m   rbf   \u001b[39m |\n",
      "| \u001b[35m6        \u001b[39m | \u001b[35m0.9536   \u001b[39m | \u001b[35m7.0665290\u001b[39m | \u001b[35m1        \u001b[39m | \u001b[35m   rbf   \u001b[39m |\n",
      "| \u001b[35m7        \u001b[39m | \u001b[35m0.9827   \u001b[39m | \u001b[35m9.6695859\u001b[39m | \u001b[35m1        \u001b[39m | \u001b[35m   rbf   \u001b[39m |\n",
      "| \u001b[39m8        \u001b[39m | \u001b[39m0.9807   \u001b[39m | \u001b[39m9.3918632\u001b[39m | \u001b[39m3        \u001b[39m | \u001b[39m   rbf   \u001b[39m |\n",
      "| \u001b[39m9        \u001b[39m | \u001b[39m0.9706   \u001b[39m | \u001b[39m7.8178252\u001b[39m | \u001b[39m3        \u001b[39m | \u001b[39m   rbf   \u001b[39m |\n",
      "| \u001b[39m10       \u001b[39m | \u001b[39m0.9749   \u001b[39m | \u001b[39m8.5973444\u001b[39m | \u001b[39m2        \u001b[39m | \u001b[39m   rbf   \u001b[39m |\n",
      "| \u001b[39m11       \u001b[39m | \u001b[39m0.8493   \u001b[39m | \u001b[39m9.9999466\u001b[39m | \u001b[39m2        \u001b[39m | \u001b[39m  poly   \u001b[39m |\n",
      "| \u001b[39m12       \u001b[39m | \u001b[39m0.9749   \u001b[39m | \u001b[39m8.5770975\u001b[39m | \u001b[39m1        \u001b[39m | \u001b[39m   rbf   \u001b[39m |\n",
      "=============================================================\n"
     ]
    }
   ],
   "source": [
    "from sklearn.datasets import load_diabetes\n",
    "from sklearn.svm import SVC\n",
    "from sklearn.metrics import f1_score\n",
    "from bayes_opt import BayesianOptimization\n",
    "\n",
    "data = load_diabetes()\n",
    "\n",
    "kernels = ['rbf', 'poly']\n",
    "\n",
    "def f_target(kernel, C, degree):\n",
    "    \n",
    "    model = SVC(C=C, kernel=kernel, degree=degree)\n",
    "    model.fit(data['data'], data['target'])\n",
    "\n",
    "    weighted_f1 = f1_score(model.predict(data['data']), data['target'], average='weighted')\n",
    "    return weighted_f1\n",
    "\n",
    "\n",
    "params_svm ={\n",
    "    'kernel': ['rbf', 'poly'],\n",
    "    'C':(1e-1, 1e+1),\n",
    "    'degree':(1, 3, int),\n",
    "}\n",
    "\n",
    "optimizer = BayesianOptimization(f_target, params_svm, random_state=42, verbose=2)\n",
    "\n",
    "optimizer.maximize(init_points=2, n_iter=10)"
   ]
  },
  {
   "cell_type": "code",
   "execution_count": null,
   "metadata": {},
   "outputs": [],
   "source": []
  }
 ],
 "metadata": {
  "kernelspec": {
   "display_name": "Python 3.9.6 ('bopt')",
   "language": "python",
   "name": "python3"
  },
  "language_info": {
   "codemirror_mode": {
    "name": "ipython",
    "version": 3
   },
   "file_extension": ".py",
   "mimetype": "text/x-python",
   "name": "python",
   "nbconvert_exporter": "python",
   "pygments_lexer": "ipython3",
   "version": "3.10.13"
  },
  "vscode": {
   "interpreter": {
    "hash": "49851069de08cc5bbf068d7713ecb1523f4cab708013d75e8e72826d85a7e48d"
   }
  }
 },
 "nbformat": 4,
 "nbformat_minor": 2
}
