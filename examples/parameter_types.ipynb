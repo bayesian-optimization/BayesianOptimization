{
 "cells": [
  {
   "cell_type": "code",
   "execution_count": 1,
   "metadata": {},
   "outputs": [],
   "source": [
    "import numpy as np\n",
    "import matplotlib.pyplot as plt\n",
    "from bayes_opt import BayesianOptimization\n"
   ]
  },
  {
   "cell_type": "code",
   "execution_count": 2,
   "metadata": {},
   "outputs": [],
   "source": [
    "def discretized_function(x, y):\n",
    "    y = np.round(y)\n",
    "    return (-1*np.cos(x) + -1*np.cos(y))/((x/3)**2 + (y/3)**2 + 1)"
   ]
  },
  {
   "cell_type": "code",
   "execution_count": 3,
   "metadata": {},
   "outputs": [],
   "source": [
    "# Bounded region of parameter space\n",
    "c_pbounds = {'x': (-5, 5), 'y': (-5, 5)}"
   ]
  },
  {
   "cell_type": "code",
   "execution_count": 4,
   "metadata": {},
   "outputs": [],
   "source": [
    "labels = [\"All-float Optimizer\", \"Typed Optimizer\"]"
   ]
  },
  {
   "cell_type": "code",
   "execution_count": 5,
   "metadata": {},
   "outputs": [],
   "source": [
    "continuous_optimizer = BayesianOptimization(\n",
    "    f=discretized_function,\n",
    "    pbounds=c_pbounds,\n",
    "    verbose=2,\n",
    "    random_state=1,\n",
    ")\n",
    "\n",
    "\n",
    "d_pbounds = {'x': (-5, 5), 'y': (-5, 5, int)}\n",
    "discrete_optimizer = BayesianOptimization(\n",
    "    f=discretized_function,\n",
    "    pbounds=d_pbounds,\n",
    "    verbose=2,\n",
    "    random_state=1,\n",
    ")"
   ]
  },
  {
   "cell_type": "code",
   "execution_count": 6,
   "metadata": {},
   "outputs": [
    {
     "name": "stdout",
     "output_type": "stream",
     "text": [
      "====================  All-float Optimizer  ====================\n",
      "\n",
      "|   iter    |  target   |     x     |     y     |\n",
      "-------------------------------------------------\n",
      "| \u001b[0m1        \u001b[0m | \u001b[0m-0.1702  \u001b[0m | \u001b[0m-0.8298  \u001b[0m | \u001b[0m2.203    \u001b[0m |\n",
      "| \u001b[95m2        \u001b[0m | \u001b[95m0.03165  \u001b[0m | \u001b[95m-4.999   \u001b[0m | \u001b[95m-1.977   \u001b[0m |\n",
      "| \u001b[95m3        \u001b[0m | \u001b[95m0.04415  \u001b[0m | \u001b[95m-4.947   \u001b[0m | \u001b[95m-2.138   \u001b[0m |\n",
      "| \u001b[95m4        \u001b[0m | \u001b[95m0.1741   \u001b[0m | \u001b[95m-4.491   \u001b[0m | \u001b[95m-4.256   \u001b[0m |\n",
      "| \u001b[0m5        \u001b[0m | \u001b[0m-0.1392  \u001b[0m | \u001b[0m-1.299   \u001b[0m | \u001b[0m-5.0     \u001b[0m |\n",
      "| \u001b[0m6        \u001b[0m | \u001b[0m-0.08152 \u001b[0m | \u001b[0m-4.962   \u001b[0m | \u001b[0m-4.987   \u001b[0m |\n",
      "| \u001b[95m7        \u001b[0m | \u001b[95m0.2105   \u001b[0m | \u001b[95m-4.333   \u001b[0m | \u001b[95m-3.837   \u001b[0m |\n",
      "| \u001b[95m8        \u001b[0m | \u001b[95m0.368    \u001b[0m | \u001b[95m-3.598   \u001b[0m | \u001b[95m-4.108   \u001b[0m |\n",
      "| \u001b[95m9        \u001b[0m | \u001b[95m0.4317   \u001b[0m | \u001b[95m-3.069   \u001b[0m | \u001b[95m-3.524   \u001b[0m |\n",
      "| \u001b[95m10       \u001b[0m | \u001b[95m0.5767   \u001b[0m | \u001b[95m-2.566   \u001b[0m | \u001b[95m-2.495   \u001b[0m |\n",
      "=================================================\n",
      "Max: 0.5767225405731152\n",
      "\n",
      "\n",
      "====================  Typed Optimizer  ====================\n",
      "\n",
      "|   iter    |  target   |     x     |     y     |\n",
      "-------------------------------------------------\n",
      "| \u001b[0m1        \u001b[0m | \u001b[0m-0.1702  \u001b[0m | \u001b[0m-0.8298  \u001b[0m | \u001b[0m2        \u001b[0m |\n",
      "| \u001b[95m2        \u001b[0m | \u001b[95m0.03165  \u001b[0m | \u001b[95m-4.999   \u001b[0m | \u001b[95m-2       \u001b[0m |\n",
      "| \u001b[95m3        \u001b[0m | \u001b[95m0.08123  \u001b[0m | \u001b[95m-4.803   \u001b[0m | \u001b[95m-2       \u001b[0m |\n",
      "| \u001b[95m4        \u001b[0m | \u001b[95m0.2658   \u001b[0m | \u001b[95m-4.201   \u001b[0m | \u001b[95m-2       \u001b[0m |\n",
      "| \u001b[95m5        \u001b[0m | \u001b[95m0.5262   \u001b[0m | \u001b[95m-3.313   \u001b[0m | \u001b[95m-2       \u001b[0m |\n",
      "| \u001b[95m6        \u001b[0m | \u001b[95m0.6115   \u001b[0m | \u001b[95m-2.149   \u001b[0m | \u001b[95m-3       \u001b[0m |\n",
      "| \u001b[0m7        \u001b[0m | \u001b[0m-0.07779 \u001b[0m | \u001b[0m-1.004   \u001b[0m | \u001b[0m-2       \u001b[0m |\n",
      "| \u001b[0m8        \u001b[0m | \u001b[0m0.4368   \u001b[0m | \u001b[0m-2.948   \u001b[0m | \u001b[0m-4       \u001b[0m |\n",
      "| \u001b[95m9        \u001b[0m | \u001b[95m0.6648   \u001b[0m | \u001b[95m-2.948   \u001b[0m | \u001b[95m-3       \u001b[0m |\n",
      "| \u001b[0m10       \u001b[0m | \u001b[0m-0.08566 \u001b[0m | \u001b[0m4.993    \u001b[0m | \u001b[0m5        \u001b[0m |\n",
      "=================================================\n",
      "Max: 0.6647526708201366\n",
      "\n",
      "\n"
     ]
    }
   ],
   "source": [
    "kappas = [2., 2.]\n",
    "for lbl, optimizer, kappa in zip(labels, [continuous_optimizer, discrete_optimizer], kappas):\n",
    "    print(f\"====================  {lbl}  ====================\\n\")\n",
    "    optimizer.maximize(\n",
    "        init_points=2,\n",
    "        n_iter=8,\n",
    "        kappa=kappa\n",
    "    )\n",
    "    print(f\"Max: {optimizer.max['target']}\\n\\n\")"
   ]
  },
  {
   "cell_type": "code",
   "execution_count": 7,
   "metadata": {},
   "outputs": [
    {
     "data": {
      "image/png": "[encoded data removed]",
      "text/plain": [
       "<Figure size 640x480 with 3 Axes>"
      ]
     },
     "metadata": {},
     "output_type": "display_data"
    }
   ],
   "source": [
    "x = np.linspace(c_pbounds['x'][0], c_pbounds['x'][1], 1000)\n",
    "y = np.linspace(c_pbounds['y'][0], c_pbounds['y'][1], 1000)\n",
    "\n",
    "X, Y = np.meshgrid(x, y)\n",
    "\n",
    "Z = discretized_function(X, Y)\n",
    "\n",
    "params = [{'x': x_i, 'y': y_j} for y_j in y for x_i in x]\n",
    "c_pred = continuous_optimizer._gp.predict(continuous_optimizer._space.params_to_array(params)).reshape(X.shape)\n",
    "d_pred = discrete_optimizer._gp.predict(discrete_optimizer._space.params_to_array(params)).reshape(X.shape)\n",
    "\n",
    "vmin = np.min([np.min(Z), np.min(c_pred), np.min(d_pred)])\n",
    "vmax = np.max([np.max(Z), np.max(c_pred), np.max(d_pred)])\n",
    "\n",
    "fig, axs = plt.subplots(1, 3)\n",
    "\n",
    "axs[0].set_title('Actual function')\n",
    "axs[0].contourf(X, Y, Z, cmap=plt.cm.coolwarm, vmin=vmin, vmax=vmax)\n",
    "\n",
    "\n",
    "axs[1].set_title(labels[0])\n",
    "axs[1].contourf(X, Y, c_pred, cmap=plt.cm.coolwarm, vmin=vmin, vmax=vmax)\n",
    "axs[1].scatter(continuous_optimizer._space.params[:,0], continuous_optimizer._space.params[:,1], c='k')\n",
    "\n",
    "axs[2].set_title(labels[1])\n",
    "axs[2].contourf(X, Y, d_pred, cmap=plt.cm.coolwarm, vmin=vmin, vmax=vmax)\n",
    "axs[2].scatter(discrete_optimizer._space.params[:,0], discrete_optimizer._space.params[:,1], c='k')\n",
    "\n",
    "\n",
    "def make_plot_fancy(ax: plt.Axes):\n",
    "    ax.set_aspect(\"equal\")\n",
    "    ax.set_xlabel('x (float)')\n",
    "    ax.set_xticks([-5.0, -2.5, 0., 2.5, 5.0])\n",
    "    ax.set_ylabel('y (int)')\n",
    "    ax.set_yticks([-5, -3, 0, 3, 5])\n",
    "\n",
    "for ax in axs:\n",
    "    make_plot_fancy(ax)\n",
    "\n",
    "plt.tight_layout()\n",
    "plt.show()"
   ]
  },
  {
   "cell_type": "markdown",
   "metadata": {},
   "source": [
    "## 3. Categorical variables\n"
   ]
  },
  {
   "cell_type": "code",
   "execution_count": 21,
   "metadata": {},
   "outputs": [],
   "source": [
    "def f1(x1, x2):\n",
    "    return -1*(x1 - np.sqrt(x1**2 + x2**2) * np.cos(np.sqrt(x1**2 + x2**2))**2 + 0.5 * np.sqrt(x1**2 + x2**2))\n",
    "\n",
    "def f2(x1, x2):\n",
    "    return -1*(x2 - np.sqrt(x1**2 + x2**2) * np.sin(np.sqrt(x1**2 + x2**2))**2 + 0.5 * np.sqrt(x1**2 + x2**2))\n",
    "\n",
    "def SPIRAL(x1, x2, k):\n",
    "    \"\"\"cf Ladislav-Luksan\n",
    "    \"\"\"\n",
    "    if k=='1':\n",
    "        return f1(x1, x2)\n",
    "    elif k=='2':\n",
    "        return f2(x1, x2)\n"
   ]
  },
  {
   "cell_type": "code",
   "execution_count": 22,
   "metadata": {},
   "outputs": [
    {
     "name": "stdout",
     "output_type": "stream",
     "text": [
      "|   iter    |  target   |     k     |    x1     |    x2     |\n",
      "-------------------------------------------------------------\n",
      "| \u001b[0m1        \u001b[0m | \u001b[0m8.698    \u001b[0m | \u001b[0m    2    \u001b[0m | \u001b[0m-9.998   \u001b[0m | \u001b[0m-3.953   \u001b[0m |\n",
      "| \u001b[0m2        \u001b[0m | \u001b[0m6.796    \u001b[0m | \u001b[0m    1    \u001b[0m | \u001b[0m-6.275   \u001b[0m | \u001b[0m-3.089   \u001b[0m |\n",
      "| \u001b[0m3        \u001b[0m | \u001b[0m7.978    \u001b[0m | \u001b[0m    2    \u001b[0m | \u001b[0m-9.97    \u001b[0m | \u001b[0m-3.781   \u001b[0m |\n",
      "| \u001b[95m4        \u001b[0m | \u001b[95m10.21    \u001b[0m | \u001b[95m    2    \u001b[0m | \u001b[95m-10.0    \u001b[0m | \u001b[95m-4.999   \u001b[0m |\n",
      "| \u001b[0m5        \u001b[0m | \u001b[0m-14.69   \u001b[0m | \u001b[0m    1    \u001b[0m | \u001b[0m9.182    \u001b[0m | \u001b[0m6.094    \u001b[0m |\n",
      "| \u001b[95m6        \u001b[0m | \u001b[95m15.21    \u001b[0m | \u001b[95m    2    \u001b[0m | \u001b[95m-5.001   \u001b[0m | \u001b[95m-10.0    \u001b[0m |\n",
      "| \u001b[0m7        \u001b[0m | \u001b[0m2.929    \u001b[0m | \u001b[0m    1    \u001b[0m | \u001b[0m-10.0    \u001b[0m | \u001b[0m-10.0    \u001b[0m |\n",
      "| \u001b[0m8        \u001b[0m | \u001b[0m2.288    \u001b[0m | \u001b[0m    1    \u001b[0m | \u001b[0m-0.2839  \u001b[0m | \u001b[0m-10.0    \u001b[0m |\n",
      "| \u001b[0m9        \u001b[0m | \u001b[0m10.01    \u001b[0m | \u001b[0m    1    \u001b[0m | \u001b[0m-5.544   \u001b[0m | \u001b[0m-7.449   \u001b[0m |\n",
      "| \u001b[0m10       \u001b[0m | \u001b[0m-2.929   \u001b[0m | \u001b[0m    2    \u001b[0m | \u001b[0m-10.0    \u001b[0m | \u001b[0m10.0     \u001b[0m |\n",
      "| \u001b[95m11       \u001b[0m | \u001b[95m17.07    \u001b[0m | \u001b[95m    2    \u001b[0m | \u001b[95m10.0     \u001b[0m | \u001b[95m-10.0    \u001b[0m |\n",
      "| \u001b[0m12       \u001b[0m | \u001b[0m3.042    \u001b[0m | \u001b[0m    2    \u001b[0m | \u001b[0m10.0     \u001b[0m | \u001b[0m-6.849   \u001b[0m |\n",
      "| \u001b[0m13       \u001b[0m | \u001b[0m3.855    \u001b[0m | \u001b[0m    2    \u001b[0m | \u001b[0m7.475    \u001b[0m | \u001b[0m-9.986   \u001b[0m |\n",
      "| \u001b[0m14       \u001b[0m | \u001b[0m9.141    \u001b[0m | \u001b[0m    2    \u001b[0m | \u001b[0m-6.365   \u001b[0m | \u001b[0m-10.0    \u001b[0m |\n",
      "| \u001b[0m15       \u001b[0m | \u001b[0m7.252    \u001b[0m | \u001b[0m    2    \u001b[0m | \u001b[0m-3.837   \u001b[0m | \u001b[0m-9.241   \u001b[0m |\n",
      "| \u001b[0m16       \u001b[0m | \u001b[0m7.252    \u001b[0m | \u001b[0m    2    \u001b[0m | \u001b[0m-3.837   \u001b[0m | \u001b[0m-9.241   \u001b[0m |\n",
      "| \u001b[0m17       \u001b[0m | \u001b[0m-16.29   \u001b[0m | \u001b[0m    1    \u001b[0m | \u001b[0m9.945    \u001b[0m | \u001b[0m-9.748   \u001b[0m |\n",
      "| \u001b[0m18       \u001b[0m | \u001b[0m8.905    \u001b[0m | \u001b[0m    2    \u001b[0m | \u001b[0m0.3066   \u001b[0m | \u001b[0m-8.598   \u001b[0m |\n",
      "| \u001b[0m19       \u001b[0m | \u001b[0m-4.946   \u001b[0m | \u001b[0m    2    \u001b[0m | \u001b[0m6.071    \u001b[0m | \u001b[0m2.961    \u001b[0m |\n",
      "| \u001b[0m20       \u001b[0m | \u001b[0m2.591    \u001b[0m | \u001b[0m    2    \u001b[0m | \u001b[0m7.782    \u001b[0m | \u001b[0m1.343    \u001b[0m |\n",
      "=============================================================\n"
     ]
    }
   ],
   "source": [
    "pbounds = {'x1': (-10, 10), 'x2': (-10, 10), 'k': ('1', '2')}\n",
    "\n",
    "categorical_optimizer = BayesianOptimization(\n",
    "    f=SPIRAL,\n",
    "    pbounds=pbounds,\n",
    "    verbose=2,\n",
    "    random_state=1,\n",
    ")\n",
    "\n",
    "categorical_optimizer.maximize(\n",
    "        init_points=2,\n",
    "        n_iter=18,\n",
    "        kappa=2.\n",
    "    )"
   ]
  },
  {
   "cell_type": "code",
   "execution_count": 23,
   "metadata": {},
   "outputs": [],
   "source": [
    "res = categorical_optimizer._space.res()\n",
    "k1 = np.array([[p['params']['x1'], p['params']['x2']] for p in res if p['params']['k']=='1'])\n",
    "k2 = np.array([[p['params']['x1'], p['params']['x2']] for p in res if p['params']['k']=='2'])"
   ]
  },
  {
   "cell_type": "code",
   "execution_count": 24,
   "metadata": {},
   "outputs": [
    {
     "data": {
      "image/png": "[encoded data removed]",
      "text/plain": [
       "<Figure size 640x480 with 2 Axes>"
      ]
     },
     "metadata": {},
     "output_type": "display_data"
    }
   ],
   "source": [
    "x1 = np.linspace(pbounds['x1'][0], pbounds['x1'][1], 1000)\n",
    "x2 = np.linspace(pbounds['x2'][0], pbounds['x2'][1], 1000)\n",
    "\n",
    "X1, X2 = np.meshgrid(x1, x2)\n",
    "Z1 = SPIRAL(X1, X2, '1')\n",
    "Z2 = SPIRAL(X1, X2, '2')\n",
    "\n",
    "fig, axs = plt.subplots(1, 2)\n",
    "\n",
    "vmin = np.min([np.min(Z1), np.min(Z2)])\n",
    "vmax = np.max([np.max(Z1), np.max(Z2)])\n",
    "\n",
    "axs[0].contourf(X1, X2, Z1, vmin=vmin, vmax=vmax)\n",
    "axs[0].set_aspect(\"equal\")\n",
    "axs[0].scatter(k1[:,0], k1[:,1], c='k')\n",
    "axs[1].contourf(X1, X2, Z2, vmin=vmin, vmax=vmax)\n",
    "axs[1].scatter(k2[:,0], k2[:,1], c='k')\n",
    "axs[1].set_aspect(\"equal\")\n"
   ]
  },
  {
   "cell_type": "markdown",
   "metadata": {},
   "source": [
    "## 4. Saving, loading and restarting\n",
    "\n",
    "By default you can follow the progress of your optimization by setting `verbose>0` when instanciating the `BayesianOptimization` object. If you need more control over logging/alerting you will need to use an observer. For more information about observers checkout the advanced tour notebook. Here we will only see how to use the native `JSONLogger` object to save to and load progress from files.\n",
    "\n",
    "### 4.1 Saving progress"
   ]
  },
  {
   "cell_type": "code",
   "execution_count": 12,
   "metadata": {},
   "outputs": [],
   "source": [
    "from bayes_opt.logger import JSONLogger\n",
    "from bayes_opt.event import Events"
   ]
  },
  {
   "cell_type": "markdown",
   "metadata": {},
   "source": [
    "The observer paradigm works by:\n",
    "1. Instantiating an observer object.\n",
    "2. Tying the observer object to a particular event fired by an optimizer.\n",
    "\n",
    "The `BayesianOptimization` object fires a number of internal events during optimization, in particular, everytime it probes the function and obtains a new parameter-target combination it will fire an `Events.OPTIMIZATION_STEP` event, which our logger will listen to.\n",
    "\n",
    "**Caveat:** The logger will not look back at previously probed points."
   ]
  },
  {
   "cell_type": "code",
   "execution_count": 13,
   "metadata": {},
   "outputs": [],
   "source": [
    "logger = JSONLogger(path=\"./logs.json\")\n",
    "optimizer.subscribe(Events.OPTIMIZATION_STEP, logger)"
   ]
  },
  {
   "cell_type": "code",
   "execution_count": 14,
   "metadata": {},
   "outputs": [
    {
     "name": "stdout",
     "output_type": "stream",
     "text": [
      "|   iter    |  target   |     x     |     y     |\n",
      "-------------------------------------------------\n",
      "| \u001b[0m11       \u001b[0m | \u001b[0m0.379    \u001b[0m | \u001b[0m-3.532   \u001b[0m | \u001b[0m-4       \u001b[0m |\n",
      "| \u001b[0m12       \u001b[0m | \u001b[0m0.5579   \u001b[0m | \u001b[0m-3.137   \u001b[0m | \u001b[0m-2       \u001b[0m |\n",
      "| \u001b[0m13       \u001b[0m | \u001b[0m-0.08256 \u001b[0m | \u001b[0m4.97     \u001b[0m | \u001b[0m-5       \u001b[0m |\n",
      "| \u001b[0m14       \u001b[0m | \u001b[0m-0.08628 \u001b[0m | \u001b[0m-4.998   \u001b[0m | \u001b[0m5        \u001b[0m |\n",
      "| \u001b[0m15       \u001b[0m | \u001b[0m-0.3398  \u001b[0m | \u001b[0m5.0      \u001b[0m | \u001b[0m0        \u001b[0m |\n",
      "=================================================\n"
     ]
    }
   ],
   "source": [
    "optimizer.maximize(\n",
    "    init_points=2,\n",
    "    n_iter=3,\n",
    ")"
   ]
  },
  {
   "cell_type": "markdown",
   "metadata": {},
   "source": [
    "### 4.2 Loading progress\n",
    "\n",
    "Naturally, if you stored progress you will be able to load that onto a new instance of `BayesianOptimization`. The easiest way to do it is by invoking the `load_logs` function, from the `util` submodule."
   ]
  },
  {
   "cell_type": "code",
   "execution_count": 15,
   "metadata": {},
   "outputs": [],
   "source": [
    "from bayes_opt.util import load_logs"
   ]
  },
  {
   "cell_type": "code",
   "execution_count": 16,
   "metadata": {},
   "outputs": [
    {
     "ename": "NameError",
     "evalue": "name 'black_box_function' is not defined",
     "output_type": "error",
     "traceback": [
      "\u001b[0;31m---------------------------------------------------------------------------\u001b[0m",
      "\u001b[0;31mNameError\u001b[0m                                 Traceback (most recent call last)",
      "Cell \u001b[0;32mIn [16], line 2\u001b[0m\n\u001b[1;32m      1\u001b[0m new_optimizer \u001b[39m=\u001b[39m BayesianOptimization(\n\u001b[0;32m----> 2\u001b[0m     f\u001b[39m=\u001b[39mblack_box_function,\n\u001b[1;32m      3\u001b[0m     pbounds\u001b[39m=\u001b[39m{\u001b[39m\"\u001b[39m\u001b[39mx\u001b[39m\u001b[39m\"\u001b[39m: (\u001b[39m-\u001b[39m\u001b[39m2\u001b[39m, \u001b[39m2\u001b[39m), \u001b[39m\"\u001b[39m\u001b[39my\u001b[39m\u001b[39m\"\u001b[39m: (\u001b[39m-\u001b[39m\u001b[39m2\u001b[39m, \u001b[39m2\u001b[39m)},\n\u001b[1;32m      4\u001b[0m     verbose\u001b[39m=\u001b[39m\u001b[39m2\u001b[39m,\n\u001b[1;32m      5\u001b[0m     random_state\u001b[39m=\u001b[39m\u001b[39m7\u001b[39m,\n\u001b[1;32m      6\u001b[0m )\n\u001b[1;32m      7\u001b[0m \u001b[39mprint\u001b[39m(\u001b[39mlen\u001b[39m(new_optimizer\u001b[39m.\u001b[39mspace))\n",
      "\u001b[0;31mNameError\u001b[0m: name 'black_box_function' is not defined"
     ]
    }
   ],
   "source": [
    "new_optimizer = BayesianOptimization(\n",
    "    f=black_box_function,\n",
    "    pbounds={\"x\": (-2, 2), \"y\": (-2, 2)},\n",
    "    verbose=2,\n",
    "    random_state=7,\n",
    ")\n",
    "print(len(new_optimizer.space))"
   ]
  },
  {
   "cell_type": "code",
   "execution_count": null,
   "metadata": {},
   "outputs": [],
   "source": [
    "load_logs(new_optimizer, logs=[\"./logs.json\"]);"
   ]
  },
  {
   "cell_type": "code",
   "execution_count": null,
   "metadata": {},
   "outputs": [],
   "source": [
    "print(\"New optimizer is now aware of {} points.\".format(len(new_optimizer.space)))"
   ]
  },
  {
   "cell_type": "code",
   "execution_count": null,
   "metadata": {},
   "outputs": [],
   "source": [
    "new_optimizer.maximize(\n",
    "    init_points=0,\n",
    "    n_iter=10,\n",
    ")"
   ]
  },
  {
   "cell_type": "markdown",
   "metadata": {},
   "source": [
    "## Next Steps\n",
    "\n",
    "This tour should be enough to cover most usage scenarios of this package. If, however, you feel like you need to know more, please checkout the `advanced-tour` notebook. There you will be able to find other, more advanced features of this package that could be what you're looking for. Also, browse the examples folder for implementation tips and ideas."
   ]
  }
 ],
 "metadata": {
  "kernelspec": {
   "display_name": "Python 3.9.6 ('bopt')",
   "language": "python",
   "name": "python3"
  },
  "language_info": {
   "codemirror_mode": {
    "name": "ipython",
    "version": 3
   },
   "file_extension": ".py",
   "mimetype": "text/x-python",
   "name": "python",
   "nbconvert_exporter": "python",
   "pygments_lexer": "ipython3",
   "version": "3.9.6"
  },
  "vscode": {
   "interpreter": {
    "hash": "49851069de08cc5bbf068d7713ecb1523f4cab708013d75e8e72826d85a7e48d"
   }
  }
 },
 "nbformat": 4,
 "nbformat_minor": 2
}
