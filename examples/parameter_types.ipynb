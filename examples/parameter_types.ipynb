{
 "cells": [
  {
   "cell_type": "code",
   "execution_count": 1,
   "metadata": {},
   "outputs": [],
   "source": [
    "import numpy as np\n",
    "import matplotlib.pyplot as plt\n",
    "from bayes_opt import BayesianOptimization\n"
   ]
  },
  {
   "cell_type": "code",
   "execution_count": 2,
   "metadata": {},
   "outputs": [],
   "source": [
    "def discretized_function(x, y):\n",
    "    y = np.round(y)\n",
    "    return (-1*np.cos(x) + -1*np.cos(y))/((x/3)**2 + (y/3)**2 + 1)"
   ]
  },
  {
   "cell_type": "code",
   "execution_count": 3,
   "metadata": {},
   "outputs": [],
   "source": [
    "# Bounded region of parameter space\n",
    "c_pbounds = {'x': (-5, 5), 'y': (-5, 5)}"
   ]
  },
  {
   "cell_type": "code",
   "execution_count": 4,
   "metadata": {},
   "outputs": [],
   "source": [
    "labels = [\"All-float Optimizer\", \"Typed Optimizer\"]"
   ]
  },
  {
   "cell_type": "code",
   "execution_count": 5,
   "metadata": {},
   "outputs": [],
   "source": [
    "continuous_optimizer = BayesianOptimization(\n",
    "    f=discretized_function,\n",
    "    pbounds=c_pbounds,\n",
    "    verbose=2,\n",
    "    random_state=1,\n",
    ")\n",
    "\n",
    "\n",
    "d_pbounds = {'x': (-5, 5), 'y': (-5, 5, int)}\n",
    "discrete_optimizer = BayesianOptimization(\n",
    "    f=discretized_function,\n",
    "    pbounds=d_pbounds,\n",
    "    verbose=2,\n",
    "    random_state=1,\n",
    ")"
   ]
  },
  {
   "cell_type": "code",
   "execution_count": 6,
   "metadata": {},
   "outputs": [
    {
     "name": "stdout",
     "output_type": "stream",
     "text": [
      "====================  All-float Optimizer  ====================\n",
      "\n",
      "|   iter    |  target   |     x     |     y     |\n",
      "-------------------------------------------------\n",
      "| \u001b[0m1        \u001b[0m | \u001b[0m-0.1702  \u001b[0m | \u001b[0m-0.8298  \u001b[0m | \u001b[0m2.203    \u001b[0m |\n",
      "| \u001b[95m2        \u001b[0m | \u001b[95m0.03165  \u001b[0m | \u001b[95m-4.999   \u001b[0m | \u001b[95m-1.977   \u001b[0m |\n",
      "| \u001b[95m3        \u001b[0m | \u001b[95m0.04415  \u001b[0m | \u001b[95m-4.947   \u001b[0m | \u001b[95m-2.138   \u001b[0m |\n",
      "| \u001b[0m4        \u001b[0m | \u001b[0m-0.008973\u001b[0m | \u001b[0m-4.481   \u001b[0m | \u001b[0m-4.54    \u001b[0m |\n",
      "| \u001b[95m5        \u001b[0m | \u001b[95m0.657    \u001b[0m | \u001b[95m-3.028   \u001b[0m | \u001b[95m-2.544   \u001b[0m |\n",
      "| \u001b[0m6        \u001b[0m | \u001b[0m0.4244   \u001b[0m | \u001b[0m-1.958   \u001b[0m | \u001b[0m-2.426   \u001b[0m |\n",
      "| \u001b[0m7        \u001b[0m | \u001b[0m0.2125   \u001b[0m | \u001b[0m-2.953   \u001b[0m | \u001b[0m-1.448   \u001b[0m |\n",
      "| \u001b[95m8        \u001b[0m | \u001b[95m0.6741   \u001b[0m | \u001b[95m-2.73    \u001b[0m | \u001b[95m-3.354   \u001b[0m |\n",
      "| \u001b[0m9        \u001b[0m | \u001b[0m-0.1388  \u001b[0m | \u001b[0m-1.301   \u001b[0m | \u001b[0m-4.592   \u001b[0m |\n",
      "| \u001b[0m10       \u001b[0m | \u001b[0m0.582    \u001b[0m | \u001b[0m-3.462   \u001b[0m | \u001b[0m-3.21    \u001b[0m |\n",
      "=================================================\n",
      "Max: 0.6741198160892132\n",
      "\n",
      "\n",
      "====================  Typed Optimizer  ====================\n",
      "\n",
      "|   iter    |  target   |     x     |     y     |\n",
      "-------------------------------------------------\n",
      "| \u001b[0m1        \u001b[0m | \u001b[0m-0.1702  \u001b[0m | \u001b[0m-0.8298  \u001b[0m | \u001b[0m2        \u001b[0m |\n",
      "| \u001b[95m2        \u001b[0m | \u001b[95m0.03165  \u001b[0m | \u001b[95m-4.999   \u001b[0m | \u001b[95m-2       \u001b[0m |\n",
      "| \u001b[95m3        \u001b[0m | \u001b[95m0.08123  \u001b[0m | \u001b[95m-4.803   \u001b[0m | \u001b[95m-2       \u001b[0m |\n",
      "| \u001b[95m4        \u001b[0m | \u001b[95m0.2938   \u001b[0m | \u001b[95m-4.116   \u001b[0m | \u001b[95m-2       \u001b[0m |\n",
      "| \u001b[95m5        \u001b[0m | \u001b[95m0.5668   \u001b[0m | \u001b[95m-3.074   \u001b[0m | \u001b[95m-2       \u001b[0m |\n",
      "| \u001b[0m6        \u001b[0m | \u001b[0m0.4001   \u001b[0m | \u001b[0m-1.478   \u001b[0m | \u001b[0m-3       \u001b[0m |\n",
      "| \u001b[0m7        \u001b[0m | \u001b[0m-0.008122\u001b[0m | \u001b[0m-2.126   \u001b[0m | \u001b[0m-1       \u001b[0m |\n",
      "| \u001b[95m8        \u001b[0m | \u001b[95m0.6641   \u001b[0m | \u001b[95m-2.955   \u001b[0m | \u001b[95m-3       \u001b[0m |\n",
      "| \u001b[0m9        \u001b[0m | \u001b[0m0.1437   \u001b[0m | \u001b[0m-2.842   \u001b[0m | \u001b[0m-5       \u001b[0m |\n",
      "| \u001b[0m10       \u001b[0m | \u001b[0m-0.08654 \u001b[0m | \u001b[0m5.0      \u001b[0m | \u001b[0m-5       \u001b[0m |\n",
      "=================================================\n",
      "Max: 0.6641360373365162\n",
      "\n",
      "\n"
     ]
    }
   ],
   "source": [
    "for lbl, optimizer in zip(labels, [continuous_optimizer, discrete_optimizer]):\n",
    "    print(f\"====================  {lbl}  ====================\\n\")\n",
    "    optimizer.maximize(\n",
    "        init_points=2,\n",
    "        n_iter=8\n",
    "    )\n",
    "    print(f\"Max: {optimizer.max['target']}\\n\\n\")"
   ]
  },
  {
   "cell_type": "code",
   "execution_count": 7,
   "metadata": {},
   "outputs": [
    {
     "data": {
      "image/png": "[encoded data removed]",
      "text/plain": [
       "<Figure size 640x480 with 3 Axes>"
      ]
     },
     "metadata": {},
     "output_type": "display_data"
    }
   ],
   "source": [
    "x = np.linspace(c_pbounds['x'][0], c_pbounds['x'][1], 1000)\n",
    "y = np.linspace(c_pbounds['y'][0], c_pbounds['y'][1], 1000)\n",
    "\n",
    "X, Y = np.meshgrid(x, y)\n",
    "\n",
    "Z = discretized_function(X, Y)\n",
    "\n",
    "params = [{'x': x_i, 'y': y_j} for y_j in y for x_i in x]\n",
    "c_pred = continuous_optimizer._gp.predict(continuous_optimizer._space.params_to_array(params)).reshape(X.shape)\n",
    "d_pred = discrete_optimizer._gp.predict(discrete_optimizer._space.params_to_array(params)).reshape(X.shape)\n",
    "\n",
    "vmin = np.min([np.min(Z), np.min(c_pred), np.min(d_pred)])\n",
    "vmax = np.max([np.max(Z), np.max(c_pred), np.max(d_pred)])\n",
    "\n",
    "fig, axs = plt.subplots(1, 3)\n",
    "\n",
    "axs[0].set_title('Actual function')\n",
    "axs[0].contourf(X, Y, Z, cmap=plt.cm.coolwarm, vmin=vmin, vmax=vmax)\n",
    "\n",
    "\n",
    "axs[1].set_title(labels[0])\n",
    "axs[1].contourf(X, Y, c_pred, cmap=plt.cm.coolwarm, vmin=vmin, vmax=vmax)\n",
    "axs[1].scatter(continuous_optimizer._space.params[:,0], continuous_optimizer._space.params[:,1], c='k')\n",
    "\n",
    "axs[2].set_title(labels[1])\n",
    "axs[2].contourf(X, Y, d_pred, cmap=plt.cm.coolwarm, vmin=vmin, vmax=vmax)\n",
    "axs[2].scatter(discrete_optimizer._space.params[:,0], discrete_optimizer._space.params[:,1], c='k')\n",
    "\n",
    "\n",
    "def make_plot_fancy(ax: plt.Axes):\n",
    "    ax.set_aspect(\"equal\")\n",
    "    ax.set_xlabel('x (float)')\n",
    "    ax.set_xticks([-5.0, -2.5, 0., 2.5, 5.0])\n",
    "    ax.set_ylabel('y (int)')\n",
    "    ax.set_yticks([-5, -3, 0, 3, 5])\n",
    "\n",
    "for ax in axs:\n",
    "    make_plot_fancy(ax)\n",
    "\n",
    "plt.tight_layout()\n",
    "plt.show()"
   ]
  },
  {
   "cell_type": "markdown",
   "metadata": {},
   "source": [
    "## 3. Categorical variables\n"
   ]
  },
  {
   "cell_type": "code",
   "execution_count": 8,
   "metadata": {},
   "outputs": [],
   "source": [
    "def f1(x1, x2):\n",
    "    return -1*(x1 - np.sqrt(x1**2 + x2**2) * np.cos(np.sqrt(x1**2 + x2**2))**2 + 0.5 * np.sqrt(x1**2 + x2**2))\n",
    "\n",
    "def f2(x1, x2):\n",
    "    return -1*(x2 - np.sqrt(x1**2 + x2**2) * np.sin(np.sqrt(x1**2 + x2**2))**2 + 0.5 * np.sqrt(x1**2 + x2**2))\n",
    "\n",
    "def SPIRAL(x1, x2, k):\n",
    "    \"\"\"cf Ladislav-Luksan\n",
    "    \"\"\"\n",
    "    if k=='1':\n",
    "        return f1(x1, x2)\n",
    "    elif k=='2':\n",
    "        return f2(x1, x2)\n"
   ]
  },
  {
   "cell_type": "code",
   "execution_count": 9,
   "metadata": {},
   "outputs": [
    {
     "name": "stdout",
     "output_type": "stream",
     "text": [
      "|   iter    |  target   |     k     |    x1     |    x2     |\n",
      "-------------------------------------------------------------\n",
      "| \u001b[0m1        \u001b[0m | \u001b[0m8.698    \u001b[0m | \u001b[0m    2    \u001b[0m | \u001b[0m-9.998   \u001b[0m | \u001b[0m-3.953   \u001b[0m |\n",
      "| \u001b[0m2        \u001b[0m | \u001b[0m6.796    \u001b[0m | \u001b[0m    1    \u001b[0m | \u001b[0m-6.275   \u001b[0m | \u001b[0m-3.089   \u001b[0m |\n",
      "| \u001b[0m3        \u001b[0m | \u001b[0m7.978    \u001b[0m | \u001b[0m    2    \u001b[0m | \u001b[0m-9.97    \u001b[0m | \u001b[0m-3.781   \u001b[0m |\n",
      "| \u001b[95m4        \u001b[0m | \u001b[95m9.995    \u001b[0m | \u001b[95m    2    \u001b[0m | \u001b[95m-10.0    \u001b[0m | \u001b[95m-5.204   \u001b[0m |\n",
      "| \u001b[0m5        \u001b[0m | \u001b[0m-14.69   \u001b[0m | \u001b[0m    1    \u001b[0m | \u001b[0m9.182    \u001b[0m | \u001b[0m6.094    \u001b[0m |\n",
      "| \u001b[0m6        \u001b[0m | \u001b[0m7.97     \u001b[0m | \u001b[0m    2    \u001b[0m | \u001b[0m-0.1515  \u001b[0m | \u001b[0m-10.0    \u001b[0m |\n",
      "| \u001b[95m7        \u001b[0m | \u001b[95m17.07    \u001b[0m | \u001b[95m    2    \u001b[0m | \u001b[95m-10.0    \u001b[0m | \u001b[95m-10.0    \u001b[0m |\n",
      "| \u001b[0m8        \u001b[0m | \u001b[0m3.655    \u001b[0m | \u001b[0m    2    \u001b[0m | \u001b[0m-7.68    \u001b[0m | \u001b[0m-9.928   \u001b[0m |\n",
      "| \u001b[0m9        \u001b[0m | \u001b[0m9.695    \u001b[0m | \u001b[0m    2    \u001b[0m | \u001b[0m6.277    \u001b[0m | \u001b[0m-10.0    \u001b[0m |\n",
      "| \u001b[0m10       \u001b[0m | \u001b[0m2.245    \u001b[0m | \u001b[0m    2    \u001b[0m | \u001b[0m3.773    \u001b[0m | \u001b[0m-5.257   \u001b[0m |\n",
      "| \u001b[0m11       \u001b[0m | \u001b[0m12.89    \u001b[0m | \u001b[0m    1    \u001b[0m | \u001b[0m-9.947   \u001b[0m | \u001b[0m-8.554   \u001b[0m |\n",
      "| \u001b[0m12       \u001b[0m | \u001b[0m2.929    \u001b[0m | \u001b[0m    1    \u001b[0m | \u001b[0m-10.0    \u001b[0m | \u001b[0m10.0     \u001b[0m |\n",
      "| \u001b[0m13       \u001b[0m | \u001b[0m17.07    \u001b[0m | \u001b[0m    2    \u001b[0m | \u001b[0m10.0     \u001b[0m | \u001b[0m-10.0    \u001b[0m |\n",
      "| \u001b[0m14       \u001b[0m | \u001b[0m2.633    \u001b[0m | \u001b[0m    2    \u001b[0m | \u001b[0m10.0     \u001b[0m | \u001b[0m-6.944   \u001b[0m |\n",
      "| \u001b[0m15       \u001b[0m | \u001b[0m-7.329   \u001b[0m | \u001b[0m    1    \u001b[0m | \u001b[0m8.69     \u001b[0m | \u001b[0m-10.0    \u001b[0m |\n",
      "| \u001b[0m16       \u001b[0m | \u001b[0m13.73    \u001b[0m | \u001b[0m    1    \u001b[0m | \u001b[0m-9.903   \u001b[0m | \u001b[0m-8.481   \u001b[0m |\n",
      "| \u001b[0m17       \u001b[0m | \u001b[0m16.8     \u001b[0m | \u001b[0m    2    \u001b[0m | \u001b[0m-9.925   \u001b[0m | \u001b[0m-9.924   \u001b[0m |\n",
      "| \u001b[0m18       \u001b[0m | \u001b[0m2.929    \u001b[0m | \u001b[0m    1    \u001b[0m | \u001b[0m-10.0    \u001b[0m | \u001b[0m-10.0    \u001b[0m |\n",
      "| \u001b[0m19       \u001b[0m | \u001b[0m-4.946   \u001b[0m | \u001b[0m    2    \u001b[0m | \u001b[0m6.071    \u001b[0m | \u001b[0m2.961    \u001b[0m |\n",
      "| \u001b[0m20       \u001b[0m | \u001b[0m3.736    \u001b[0m | \u001b[0m    1    \u001b[0m | \u001b[0m-9.84    \u001b[0m | \u001b[0m-9.801   \u001b[0m |\n",
      "=============================================================\n"
     ]
    }
   ],
   "source": [
    "pbounds = {'x1': (-10, 10), 'x2': (-10, 10), 'k': ('1', '2')}\n",
    "\n",
    "categorical_optimizer = BayesianOptimization(\n",
    "    f=SPIRAL,\n",
    "    pbounds=pbounds,\n",
    "    verbose=2,\n",
    "    random_state=1,\n",
    ")\n",
    "\n",
    "categorical_optimizer.maximize(\n",
    "        init_points=2,\n",
    "        n_iter=18,\n",
    "    )"
   ]
  },
  {
   "cell_type": "code",
   "execution_count": 10,
   "metadata": {},
   "outputs": [],
   "source": [
    "res = categorical_optimizer._space.res()\n",
    "k1 = np.array([[p['params']['x1'], p['params']['x2']] for p in res if p['params']['k']=='1'])\n",
    "k2 = np.array([[p['params']['x1'], p['params']['x2']] for p in res if p['params']['k']=='2'])"
   ]
  },
  {
   "cell_type": "code",
   "execution_count": 11,
   "metadata": {},
   "outputs": [
    {
     "data": {
      "image/png": "[encoded data removed]",
      "text/plain": [
       "<Figure size 640x480 with 2 Axes>"
      ]
     },
     "metadata": {},
     "output_type": "display_data"
    }
   ],
   "source": [
    "x1 = np.linspace(pbounds['x1'][0], pbounds['x1'][1], 1000)\n",
    "x2 = np.linspace(pbounds['x2'][0], pbounds['x2'][1], 1000)\n",
    "\n",
    "X1, X2 = np.meshgrid(x1, x2)\n",
    "Z1 = SPIRAL(X1, X2, '1')\n",
    "Z2 = SPIRAL(X1, X2, '2')\n",
    "\n",
    "fig, axs = plt.subplots(1, 2)\n",
    "\n",
    "vmin = np.min([np.min(Z1), np.min(Z2)])\n",
    "vmax = np.max([np.max(Z1), np.max(Z2)])\n",
    "\n",
    "axs[0].contourf(X1, X2, Z1, vmin=vmin, vmax=vmax)\n",
    "axs[0].set_aspect(\"equal\")\n",
    "axs[0].scatter(k1[:,0], k1[:,1], c='k')\n",
    "axs[1].contourf(X1, X2, Z2, vmin=vmin, vmax=vmax)\n",
    "axs[1].scatter(k2[:,0], k2[:,1], c='k')\n",
    "axs[1].set_aspect(\"equal\")\n"
   ]
  },
  {
   "cell_type": "markdown",
   "metadata": {},
   "source": [
    "## 4. Use in ML"
   ]
  },
  {
   "cell_type": "code",
   "execution_count": 12,
   "metadata": {},
   "outputs": [
    {
     "name": "stdout",
     "output_type": "stream",
     "text": [
      "|   iter    |  target   |     C     |  degree   |  kernel   |\n",
      "-------------------------------------------------------------\n",
      "| \u001b[0m1        \u001b[0m | \u001b[0m0.8166   \u001b[0m | \u001b[0m3.808    \u001b[0m | \u001b[0m3        \u001b[0m | \u001b[0m   rbf   \u001b[0m |\n",
      "| \u001b[0m2        \u001b[0m | \u001b[0m0.1887   \u001b[0m | \u001b[0m1.645    \u001b[0m | \u001b[0m1        \u001b[0m | \u001b[0m  poly   \u001b[0m |\n",
      "| \u001b[0m3        \u001b[0m | \u001b[0m0.6176   \u001b[0m | \u001b[0m3.802    \u001b[0m | \u001b[0m3        \u001b[0m | \u001b[0m  poly   \u001b[0m |\n",
      "| \u001b[95m4        \u001b[0m | \u001b[95m0.8806   \u001b[0m | \u001b[95m4.929    \u001b[0m | \u001b[95m3        \u001b[0m | \u001b[95m   rbf   \u001b[0m |\n",
      "| \u001b[0m5        \u001b[0m | \u001b[0m0.6921   \u001b[0m | \u001b[0m5.546    \u001b[0m | \u001b[0m3        \u001b[0m | \u001b[0m  poly   \u001b[0m |\n",
      "| \u001b[0m6        \u001b[0m | \u001b[0m0.8706   \u001b[0m | \u001b[0m4.721    \u001b[0m | \u001b[0m3        \u001b[0m | \u001b[0m   rbf   \u001b[0m |\n",
      "| \u001b[0m7        \u001b[0m | \u001b[0m0.8737   \u001b[0m | \u001b[0m4.826    \u001b[0m | \u001b[0m2        \u001b[0m | \u001b[0m   rbf   \u001b[0m |\n",
      "| \u001b[0m8        \u001b[0m | \u001b[0m0.521    \u001b[0m | \u001b[0m5.291    \u001b[0m | \u001b[0m1        \u001b[0m | \u001b[0m  poly   \u001b[0m |\n",
      "| \u001b[0m9        \u001b[0m | \u001b[0m0.6588   \u001b[0m | \u001b[0m4.821    \u001b[0m | \u001b[0m3        \u001b[0m | \u001b[0m  poly   \u001b[0m |\n",
      "| \u001b[0m10       \u001b[0m | \u001b[0m0.3761   \u001b[0m | \u001b[0m2.016    \u001b[0m | \u001b[0m2        \u001b[0m | \u001b[0m  poly   \u001b[0m |\n",
      "| \u001b[0m11       \u001b[0m | \u001b[0m0.05248  \u001b[0m | \u001b[0m0.1624   \u001b[0m | \u001b[0m2        \u001b[0m | \u001b[0m   rbf   \u001b[0m |\n",
      "| \u001b[95m12       \u001b[0m | \u001b[95m0.9617   \u001b[0m | \u001b[95m7.452    \u001b[0m | \u001b[95m2        \u001b[0m | \u001b[95m   rbf   \u001b[0m |\n",
      "=============================================================\n"
     ]
    }
   ],
   "source": [
    "from sklearn.datasets import load_diabetes\n",
    "from sklearn.svm import SVC\n",
    "from sklearn.metrics import f1_score\n",
    "from bayes_opt import BayesianOptimization\n",
    "\n",
    "data = load_diabetes()\n",
    "\n",
    "kernels = ['rbf', 'poly']\n",
    "\n",
    "def f_target(kernel, C, degree):\n",
    "    \n",
    "    model = SVC(C=C, kernel=kernel, degree=degree)\n",
    "    model.fit(data['data'], data['target'])\n",
    "\n",
    "    weighted_f1 = f1_score(model.predict(data['data']), data['target'], average='weighted')\n",
    "    return weighted_f1\n",
    "\n",
    "\n",
    "params_svm ={\n",
    "    'kernel': ['rbf', 'poly'],\n",
    "    'C':(1e-1, 1e+1),\n",
    "    'degree':(1, 3, int),\n",
    "}\n",
    "\n",
    "optimizer = BayesianOptimization(f_target, params_svm, random_state=42, verbose=2)\n",
    "\n",
    "optimizer.maximize(init_points=2, n_iter=10)"
   ]
  },
  {
   "cell_type": "code",
   "execution_count": null,
   "metadata": {},
   "outputs": [],
   "source": []
  }
 ],
 "metadata": {
  "kernelspec": {
   "display_name": "Python 3.9.6 ('bopt')",
   "language": "python",
   "name": "python3"
  },
  "language_info": {
   "codemirror_mode": {
    "name": "ipython",
    "version": 3
   },
   "file_extension": ".py",
   "mimetype": "text/x-python",
   "name": "python",
   "nbconvert_exporter": "python",
   "pygments_lexer": "ipython3",
   "version": "3.10.0"
  },
  "vscode": {
   "interpreter": {
    "hash": "49851069de08cc5bbf068d7713ecb1523f4cab708013d75e8e72826d85a7e48d"
   }
  }
 },
 "nbformat": 4,
 "nbformat_minor": 2
}
